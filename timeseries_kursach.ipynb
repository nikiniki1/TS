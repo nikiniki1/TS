{
 "cells": [
  {
   "cell_type": "code",
   "execution_count": null,
   "metadata": {},
   "outputs": [],
   "source": [
    "import pickle\n",
    "import numpy as np\n",
    "import pandas as pd\n",
    "import matplotlib.pyplot as plt\n",
    "from pylab import rcParams\n",
    "import warnings\n",
    "rcParams['figure.figsize'] = 12, 10"
   ]
  },
  {
   "cell_type": "code",
   "execution_count": null,
   "metadata": {},
   "outputs": [],
   "source": [
    "from fedot.core.data.data import InputData\n",
    "from fedot.core.pipelines.pipeline import Pipeline\n",
    "from fedot.core.pipelines.node import PrimaryNode, SecondaryNode\n",
    "from fedot.core.repository.dataset_types import DataTypesEnum\n",
    "from fedot.core.repository.tasks import Task, TaskTypesEnum, TsForecastingParams\n",
    "from fedot.core.data.data_split import train_test_data_setup\n",
    "\n",
    "import statsmodels.api as sm\n",
    "from scipy import stats\n",
    "from itertools import product\n",
    "from statsmodels.tsa.arima_model import ARIMA\n",
    "\n",
    "from sklearn.metrics import mean_absolute_error\n"
   ]
  },
  {
   "cell_type": "code",
   "execution_count": 111,
   "metadata": {},
   "outputs": [],
   "source": [
    "with open('data_series_one.pickle', 'rb') as ts:\n",
    "    timeseries = pickle.load(ts)\n",
    "timeseries = np.array(timeseries).reshape(-1)"
   ]
  },
  {
   "cell_type": "code",
   "execution_count": null,
   "metadata": {},
   "outputs": [],
   "source": [
    "len(timeseries)-5000"
   ]
  },
  {
   "cell_type": "code",
   "execution_count": null,
   "metadata": {},
   "outputs": [],
   "source": [
    "timeseries = timeseries[len(timeseries)-5000:]\n",
    "timeseries"
   ]
  },
  {
   "cell_type": "code",
   "execution_count": null,
   "metadata": {},
   "outputs": [],
   "source": [
    "plt.plot(ts)"
   ]
  },
  {
   "cell_type": "code",
   "execution_count": null,
   "metadata": {},
   "outputs": [],
   "source": [
    "task = Task(TaskTypesEnum.ts_forecasting,\n",
    "                TsForecastingParams(forecast_length=3000))\n",
    "\n",
    "input_data = InputData(idx=np.arange(0, len(timeseries)),\n",
    "                       features=timeseries, target=timeseries,\n",
    "                       task=task, data_type=DataTypesEnum.ts)\n",
    "\n",
    "def node_fit_predict(node, input_data):\n",
    "    \"\"\" Fit node and make prediction \"\"\"\n",
    "    node.fit(input_data)\n",
    "    smoothed_output = node.predict(input_data)\n",
    "    return smoothed_output"
   ]
  },
  {
   "cell_type": "markdown",
   "metadata": {},
   "source": [
    "СКОЛЬЗЯЩЕЕ СРЕДНЕЕ\n"
   ]
  },
  {
   "cell_type": "code",
   "execution_count": null,
   "metadata": {},
   "outputs": [],
   "source": [
    "moving_average = PrimaryNode('smoothing')\n",
    "moving_average.custom_params = {\n",
    "                                'window_size': 25\n",
    "                                }\n",
    "moving_average_out = node_fit_predict(moving_average,input_data)"
   ]
  },
  {
   "cell_type": "code",
   "execution_count": null,
   "metadata": {},
   "outputs": [],
   "source": [
    "plt.plot(input_data.idx, input_data.target, label='Source time series')\n",
    "plt.plot(moving_average_out.idx, moving_average_out.predict, label='Smoothed by 15 elements', linewidth=3)\n",
    "plt.legend()\n",
    "plt.show()"
   ]
  },
  {
   "cell_type": "markdown",
   "metadata": {},
   "source": [
    "ФИЛЬТР ГАУССА"
   ]
  },
  {
   "cell_type": "code",
   "execution_count": null,
   "metadata": {},
   "outputs": [],
   "source": [
    "gaussian_node = PrimaryNode('gaussian_filter') \n",
    "gaussian_node.custom_params = {'sigma': 10}\n",
    "\n",
    "smoothed_gaussian = node_fit_predict(gaussian_node, input_data)\n",
    "timeseries = smoothed_gaussian.predict"
   ]
  },
  {
   "cell_type": "code",
   "execution_count": null,
   "metadata": {},
   "outputs": [],
   "source": [
    "plt.plot(input_data.idx, input_data.target, label='Source time series')\n",
    "plt.plot(smoothed_gaussian.idx, smoothed_gaussian.predict, label='Smoothed gaussian filter', linewidth=2, c='red')\n",
    "plt.legend()"
   ]
  },
  {
   "cell_type": "markdown",
   "metadata": {},
   "source": [
    "АВТОРЕГРЕССИЯ\n"
   ]
  },
  {
   "cell_type": "code",
   "execution_count": null,
   "metadata": {},
   "outputs": [],
   "source": [
    "task = Task(TaskTypesEnum.ts_forecasting,\n",
    "                TsForecastingParams(forecast_length=2000))\n",
    "\n",
    "input_data = InputData(idx=np.arange(0, len(timeseries)),\n",
    "                       features=timeseries, target=timeseries,\n",
    "                       task=task, data_type=DataTypesEnum.ts)"
   ]
  },
  {
   "cell_type": "code",
   "execution_count": null,
   "metadata": {},
   "outputs": [],
   "source": [
    "len(input_data.target)"
   ]
  },
  {
   "cell_type": "code",
   "execution_count": null,
   "metadata": {},
   "outputs": [],
   "source": [
    "train, test = train_test_data_setup(input_data)"
   ]
  },
  {
   "cell_type": "code",
   "execution_count": null,
   "metadata": {},
   "outputs": [],
   "source": [
    "len(train.features)"
   ]
  },
  {
   "cell_type": "code",
   "execution_count": null,
   "metadata": {},
   "outputs": [],
   "source": [
    "pipeline = Pipeline(PrimaryNode('ar'))\n",
    "pipeline = pipeline.fine_tune_all_nodes(loss_function=mean_absolute_error,\n",
    "                                        loss_params=None, input_data=train,\n",
    "                                        iterations=200, timeout=5,\n",
    "                                        cv_folds=3, validation_blocks=2)"
   ]
  },
  {
   "cell_type": "code",
   "execution_count": null,
   "metadata": {},
   "outputs": [],
   "source": [
    "fitted_vals = pipeline.fit(train)\n",
    "forecast = pipeline.predict(test)\n",
    "\n",
    "plt.plot(input_data.idx, input_data.target, label='Source time series')\n",
    "plt.plot(forecast.idx, np.ravel(forecast.predict), label='AR forecast')\n",
    "plt.grid()\n",
    "plt.legend()\n",
    "plt.savefig('AR.png',dpi=150)"
   ]
  },
  {
   "cell_type": "markdown",
   "metadata": {},
   "source": [
    "АРИМА"
   ]
  },
  {
   "cell_type": "code",
   "execution_count": null,
   "metadata": {},
   "outputs": [],
   "source": [
    "ps = range(0, 6)\n",
    "d=1\n",
    "qs = range(0, 6)\n",
    "Ps = range(0, 3)\n",
    "D=1\n",
    "Qs= range(0,1)\n",
    "\n",
    "parameters = product(ps, qs, Ps, Qs)\n",
    "parameters_list = list(parameters)\n",
    "print (u\"Models to analyse by AIC:\", len(parameters_list))"
   ]
  },
  {
   "cell_type": "code",
   "execution_count": null,
   "metadata": {},
   "outputs": [],
   "source": [
    "results = []\n",
    "best_aic = float(\"inf\")\n",
    "\n",
    "# ignore warnings \n",
    "warnings.filterwarnings('ignore')\n",
    "\n",
    "for param in parameters_list:\n",
    "    \n",
    "    #try except for the case of wrong parameters\n",
    "    try:\n",
    "        model=sm.tsa.statespace.SARIMAX(timeseries, order=(param[0], d, param[1]), \n",
    "                                        seasonal_order=(param[2], D, param[3], 12)).fit(disp=-1)\n",
    "        \n",
    "    #print wrong parameters and go on\n",
    "    # AIC criteria: \n",
    "    except ValueError:\n",
    "            continue\n",
    "    aic = model.aic\n",
    "\n",
    "    # save best model, aic, parameters\n",
    "    if (aic < best_aic):\n",
    "        best_model = model\n",
    "        best_aic = aic\n",
    "        best_param = param\n",
    "    results.append([param, model.aic])\n",
    "    \n",
    "print(f'AIC value: {model.aic}')"
   ]
  },
  {
   "cell_type": "code",
   "execution_count": null,
   "metadata": {},
   "outputs": [],
   "source": [
    "result_table = pd.DataFrame(results)\n",
    "result_table.columns = ['parameters', 'aic']\n",
    "print(result_table.sort_values(by = 'aic', ascending=True).head())"
   ]
  },
  {
   "cell_type": "code",
   "execution_count": null,
   "metadata": {},
   "outputs": [],
   "source": [
    "print(best_model.summary())"
   ]
  },
  {
   "cell_type": "code",
   "execution_count": null,
   "metadata": {},
   "outputs": [],
   "source": [
    "pipeline_arima = Pipeline(PrimaryNode('arima'))\n",
    "pipeline_arima = pipeline_arima.fine_tune_all_nodes(loss_function=mean_absolute_error,\n",
    "                                        loss_params=None, input_data=train,\n",
    "                                        iterations=100, timeout=5,\n",
    "                                        cv_folds=2, validation_blocks=2)"
   ]
  },
  {
   "cell_type": "code",
   "execution_count": null,
   "metadata": {},
   "outputs": [],
   "source": [
    "fitted_vals = pipeline_arima.fit(train)\n",
    "forecast = pipeline_arima.predict(test)"
   ]
  },
  {
   "cell_type": "code",
   "execution_count": null,
   "metadata": {},
   "outputs": [],
   "source": [
    "plt.plot(input_data.idx, input_data.target, label='Source time series')\n",
    "plt.plot(forecast.idx, np.ravel(forecast.predict), label='ARIMA forecast')\n",
    "plt.grid()\n",
    "plt.legend()\n",
    "plt.show()"
   ]
  },
  {
   "cell_type": "markdown",
   "metadata": {},
   "source": [
    "fedot auto pipeline"
   ]
  },
  {
   "cell_type": "code",
   "execution_count": null,
   "metadata": {},
   "outputs": [],
   "source": [
    "from fedot.api.main import Fedot"
   ]
  },
  {
   "cell_type": "code",
   "execution_count": 119,
   "metadata": {},
   "outputs": [
    {
     "data": {
      "text/plain": [
       "[<matplotlib.lines.Line2D at 0x25828fbca30>]"
      ]
     },
     "execution_count": 119,
     "metadata": {},
     "output_type": "execute_result"
    },
    {
     "data": {
      "image/png": "[encoded data removed]",
      "text/plain": [
       "<Figure size 864x720 with 1 Axes>"
      ]
     },
     "metadata": {
      "needs_background": "light"
     },
     "output_type": "display_data"
    }
   ],
   "source": [
    "plt.plot(timeseries)"
   ]
  },
  {
   "cell_type": "code",
   "execution_count": 122,
   "metadata": {},
   "outputs": [],
   "source": [
    "time_series = ts\n",
    "warnings.filterwarnings('ignore')\n",
    "task = Task(TaskTypesEnum.ts_forecasting,\n",
    "            TsForecastingParams(forecast_length=3000))\n",
    "\n",
    "train_input = InputData(idx=np.arange(0,len(time_series)),\n",
    "                        features=time_series,\n",
    "                        target=time_series,\n",
    "                        task=task,\n",
    "                        data_type=DataTypesEnum.ts)\n",
    "train_data, test_data = train_test_data_setup(train_input)\n",
    "\n",
    "# init model for the time series forecasting\n",
    "model = Fedot(problem='ts_forecasting',\n",
    "                task_params=task.task_params,\n",
    "                timeout=5,\n",
    "                preset='fast_train',\n",
    "                n_jobs=-1)\n",
    "\n",
    "# run AutoML model design in the same way\n",
    "# print(train_data)\n",
    "pipeline = model.fit(train_data)\n",
    "pipeline.show()\n",
    "\n",
    "# use model to obtain forecast\n",
    "forecast = model.predict(test_data)\n",
    "target = np.ravel(test_data.target)\n",
    "print(model.get_metrics(metric_names=['rmse', 'mae', 'mape'], target=target))\n",
    "\n",
    "# plot forecasting result\n",
    "model.plot_prediction()\n"
   ]
  },
  {
   "cell_type": "markdown",
   "metadata": {},
   "source": [
    "свой пайплайн"
   ]
  },
  {
   "cell_type": "code",
   "execution_count": null,
   "metadata": {},
   "outputs": [],
   "source": [
    "def get_decompose_pipeline():\n",
    "    \"\"\" Create 4-level pipeline with decompose operation \"\"\"\n",
    "\n",
    "    node_lagged = PrimaryNode('lagged')\n",
    "    node_dtreg = SecondaryNode('dtreg', nodes_from=[node_lagged])\n",
    "    node_decompose = SecondaryNode('decompose', nodes_from=[node_lagged, node_dtreg])\n",
    "    node_lasso = SecondaryNode('lasso', nodes_from=[node_decompose])\n",
    "    \n",
    "    # Combining branches with different targets (T and T_decomposed)\n",
    "    final_node = SecondaryNode('linear', nodes_from=[node_dtreg, node_lasso])\n",
    "    pipeline = Pipeline(final_node)\n",
    "    return pipeline\n",
    "\n",
    "\n",
    "def get_simple_pipeline():\n",
    "    \"\"\" Return simple non-linear pipeline lagged -> dtreg \"\"\"\n",
    "    node_lagged = PrimaryNode('lagged')\n",
    "    final_node = SecondaryNode('dtreg', nodes_from=[node_lagged])\n",
    "    pipeline = Pipeline(final_node)\n",
    "    return pipeline\n",
    "\n",
    "\n",
    "def wrap_into_input(forecast_length, time_series):\n",
    "    \"\"\" Convert data for FEDOT framework \"\"\"\n",
    "    time_series = np.array(time_series)\n",
    "    task = Task(TaskTypesEnum.ts_forecasting,\n",
    "                TsForecastingParams(forecast_length=forecast_length))\n",
    "    \n",
    "    input_data = InputData(idx=np.arange(0, len(time_series)),\n",
    "                           features=time_series, target=time_series,\n",
    "                           task=task, data_type=DataTypesEnum.ts)\n",
    "    \n",
    "    return input_data"
   ]
  },
  {
   "cell_type": "code",
   "execution_count": null,
   "metadata": {},
   "outputs": [],
   "source": [
    "forecast_length = 3000\n",
    "input_data = wrap_into_input(forecast_length=forecast_length, time_series=timeseries)\n",
    "\n",
    "# Train test split\n",
    "train, test = train_test_data_setup(input_data)"
   ]
  },
  {
   "cell_type": "code",
   "execution_count": null,
   "metadata": {},
   "outputs": [],
   "source": [
    "len(test.features)"
   ]
  },
  {
   "cell_type": "code",
   "execution_count": null,
   "metadata": {},
   "outputs": [],
   "source": [
    "\n",
    "decompose_pipeline = get_decompose_pipeline()\n",
    "decompose_pipeline = decompose_pipeline.fine_tune_all_nodes(loss_function=mean_absolute_error,\n",
    "                                        loss_params=None, input_data=train,\n",
    "                                        iterations=50, timeout=5,\n",
    "                                        cv_folds=1, validation_blocks=2)\n",
    "decompose_pipeline.fit(train)\n",
    "decompose_prediction = decompose_pipeline.predict(test)\n"
   ]
  },
  {
   "cell_type": "code",
   "execution_count": null,
   "metadata": {},
   "outputs": [],
   "source": [
    "simple_pipeline = get_simple_pipeline()\n",
    "simple_pipeline = simple_pipeline.fine_tune_all_nodes(loss_function=mean_absolute_error,\n",
    "                                                      loss_params=None, input_data=train,\n",
    "                                                      iterations=50, timeout=5,\n",
    "                                                      cv_folds=2, validation_blocks=2)\n",
    "simple_pipeline.fit(train)\n",
    "simple_prediction = simple_pipeline.predict(test)"
   ]
  },
  {
   "cell_type": "code",
   "execution_count": null,
   "metadata": {},
   "outputs": [],
   "source": [
    "plt.plot(input_data.idx, input_data.target, label='Actual time series')\n",
    "plt.plot(decompose_prediction.idx, np.ravel(decompose_prediction.predict), label='Decompose forecast')\n",
    "plt.plot(simple_prediction.idx, np.ravel(simple_prediction.predict), label='Non decompose forecast')\n",
    "plt.grid()\n",
    "plt.legend()\n",
    "plt.show()"
   ]
  },
  {
   "cell_type": "code",
   "execution_count": null,
   "metadata": {},
   "outputs": [],
   "source": [
    "from sklearn.metrics import mean_squared_error, mean_absolute_percentage_error"
   ]
  },
  {
   "cell_type": "code",
   "execution_count": null,
   "metadata": {},
   "outputs": [],
   "source": [
    "mae_decompose = mean_absolute_error(input_data.target[3000:],np.ravel(decompose_prediction.predict))\n",
    "mae_simple = mean_absolute_error(input_data.target[3000:],np.ravel(simple_prediction.predict))\n",
    "rmse_decompose = mean_squared_error(input_data.target[3000:],np.ravel(decompose_prediction.predict))\n",
    "rmse_simple = mean_squared_error(input_data.target[3000:],np.ravel(simple_prediction.predict))\n",
    "mape_decompose = mean_absolute_percentage_error(input_data.target[3000:],np.ravel(decompose_prediction.predict))\n",
    "mape_simple = mean_absolute_percentage_error(input_data.target[3000:],np.ravel(simple_prediction.predict))\n",
    "print('mae_decompose',mae_decompose)\n",
    "print('mae_simple',mae_simple)\n",
    "print('rmse_decompose',rmse_decompose)\n",
    "print('rmse_simple',rmse_simple)\n",
    "print('mape_decompose',mape_decompose)\n",
    "print('mape_simple',mape_simple)"
   ]
  },
  {
   "cell_type": "code",
   "execution_count": null,
   "metadata": {},
   "outputs": [],
   "source": [
    "def plot_results(actual_time_series, predicted_values, len_train_data, y_name = 'Parameter'):\n",
    "    \"\"\"\n",
    "    Function for drawing plot with predictions\n",
    "    \n",
    "    :param actual_time_series: the entire array with one-dimensional data\n",
    "    :param predicted_values: array with predicted values\n",
    "    :param len_train_data: number of elements in the training sample\n",
    "    :param y_name: name of the y axis\n",
    "    \"\"\"\n",
    "    \n",
    "    plt.plot(np.arange(0, len(actual_time_series)), \n",
    "             actual_time_series, label = 'Actual values', c = 'green')\n",
    "    plt.plot(np.arange(len_train_data, len_train_data + len(predicted_values)), \n",
    "             predicted_values, label = 'Predicted', c = 'blue')\n",
    "    # Plot black line which divide our array into train and test\n",
    "    plt.plot([len_train_data, len_train_data],\n",
    "             [min(actual_time_series), max(actual_time_series)], c = 'black', linewidth = 1)\n",
    "    plt.ylabel(y_name, fontsize = 15)\n",
    "    plt.xlabel('Time index', fontsize = 15)\n",
    "    plt.legend(fontsize = 15, loc='upper left')\n",
    "    plt.grid()\n",
    "    plt.show()"
   ]
  },
  {
   "cell_type": "code",
   "execution_count": null,
   "metadata": {},
   "outputs": [],
   "source": [
    "from fedot.core.pipelines.ts_wrappers import out_of_sample_ts_forecast\n",
    "\n",
    "# Make forecast\n",
    "ts_predicted = out_of_sample_ts_forecast(pipeline=simple_pipeline,\n",
    "                                         input_data=test,\n",
    "                                         horizon=5000)\n",
    "\n",
    "# Plot the graph\n",
    "plot_results(actual_time_series = timeseries,\n",
    "             predicted_values = ts_predicted, \n",
    "             len_train_data = len(timeseries)-3000)"
   ]
  },
  {
   "cell_type": "code",
   "execution_count": null,
   "metadata": {},
   "outputs": [],
   "source": [
    "# Make forecast\n",
    "ts_predicted = out_of_sample_ts_forecast(pipeline=pipeline,\n",
    "                                         input_data=test,\n",
    "                                         horizon=5000)\n",
    "\n",
    "# Plot the graph\n",
    "plot_results(actual_time_series = timeseries,\n",
    "             predicted_values = ts_predicted, \n",
    "             len_train_data = len(timeseries)-3000)"
   ]
  }
 ],
 "metadata": {
  "interpreter": {
   "hash": "69eb92836b941e979072a76c7fcfffe5419cca933cedd02cfafbdfca1a93358c"
  },
  "kernelspec": {
   "display_name": "Python 3.9.10 64-bit",
   "language": "python",
   "name": "python3"
  },
  "language_info": {
   "codemirror_mode": {
    "name": "ipython",
    "version": 3
   },
   "file_extension": ".py",
   "mimetype": "text/x-python",
   "name": "python",
   "nbconvert_exporter": "python",
   "pygments_lexer": "ipython3",
   "version": "3.9.10"
  },
  "orig_nbformat": 4
 },
 "nbformat": 4,
 "nbformat_minor": 2
}
